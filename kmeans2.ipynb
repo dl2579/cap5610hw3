{
 "cells": [
  {
   "cell_type": "code",
   "execution_count": 148,
   "metadata": {},
   "outputs": [],
   "source": [
    "import pandas as pd\n",
    "import numpy as np\n",
    "\n",
    "from scipy import spatial\n",
    "from sklearn.metrics import accuracy_score\n",
    "from sklearn.neighbors import BallTree"
   ]
  },
  {
   "cell_type": "code",
   "execution_count": 149,
   "metadata": {},
   "outputs": [],
   "source": [
    "data = np.genfromtxt('./kmeans_data/data.csv',delimiter=\",\", dtype=float)\n",
    "labels = np.genfromtxt('./kmeans_data/label.csv',delimiter=\",\", dtype=int)"
   ]
  },
  {
   "cell_type": "code",
   "execution_count": 150,
   "metadata": {},
   "outputs": [
    {
     "data": {
      "text/plain": [
       "(10000, 784)"
      ]
     },
     "execution_count": 150,
     "metadata": {},
     "output_type": "execute_result"
    }
   ],
   "source": [
    "data.shape"
   ]
  },
  {
   "cell_type": "code",
   "execution_count": 151,
   "metadata": {},
   "outputs": [
    {
     "data": {
      "text/plain": [
       "(10, 784)"
      ]
     },
     "execution_count": 151,
     "metadata": {},
     "output_type": "execute_result"
    }
   ],
   "source": [
    "indices_for_clusters = np.random.choice(data.shape[0], 10)\n",
    "clusters = data[indices_for_clusters]\n",
    "clusters.shape"
   ]
  },
  {
   "cell_type": "code",
   "execution_count": 152,
   "metadata": {},
   "outputs": [
    {
     "data": {
      "text/plain": [
       "array([0, 1, 2, 3, 4, 5, 6, 7, 8, 9])"
      ]
     },
     "execution_count": 152,
     "metadata": {},
     "output_type": "execute_result"
    }
   ],
   "source": [
    "cluster_labels = np.arange(0,10,1)\n",
    "cluster_labels"
   ]
  },
  {
   "cell_type": "code",
   "execution_count": 153,
   "metadata": {},
   "outputs": [
    {
     "data": {
      "text/plain": [
       "(10000,)"
      ]
     },
     "execution_count": 153,
     "metadata": {},
     "output_type": "execute_result"
    }
   ],
   "source": [
    "assignments = np.ones(data.shape[0]) * np.inf\n",
    "assignments.shape"
   ]
  },
  {
   "cell_type": "code",
   "execution_count": 154,
   "metadata": {},
   "outputs": [],
   "source": [
    "def generalized_jaccard(u, v):\n",
    "    return 1 - np.sum(np.minimum(u,v))/np.sum(np.maximum(u,v))"
   ]
  },
  {
   "cell_type": "code",
   "execution_count": 155,
   "metadata": {},
   "outputs": [
    {
     "data": {
      "text/plain": [
       "(0, 784)"
      ]
     },
     "execution_count": 155,
     "metadata": {},
     "output_type": "execute_result"
    }
   ],
   "source": [
    "cluster_members = np.where(assignments == 1)[0]\n",
    "a = data[cluster_members] - clusters[1]\n",
    "a.shape"
   ]
  },
  {
   "cell_type": "code",
   "execution_count": 156,
   "metadata": {},
   "outputs": [
    {
     "name": "stdout",
     "output_type": "stream",
     "text": [
      "iteration:  100  SSE : 25670597881.83919\r"
     ]
    }
   ],
   "source": [
    "i=0\n",
    "sse = np.inf\n",
    "while(1):\n",
    "    #Assign the datapoints to a cluster\n",
    "    # distances = spatial.KDTree(clusters).query(data)\n",
    "    distances = BallTree(clusters, metric=spatial.distance.euclidean).query(data)\n",
    "    # distances = BallTree(clusters, metric=generalized_jaccard).query(data)\n",
    "    # distances = BallTree(clusters, metric=spatial.distance.cosine).query(data)\n",
    "    nearest_cluster_idx = distances[1]\n",
    "    assignments = np.array([cluster_labels[idx] for idx in nearest_cluster_idx])\n",
    "    \n",
    "    #Recompute the means of each cluster and update the cluster with the mean\n",
    "    clusters_before_update = clusters.copy()\n",
    "    for idx,centroid in enumerate(cluster_labels):\n",
    "        cluster_members = np.where(assignments == centroid)[0]\n",
    "        cluster_mean = np.mean(data[cluster_members], axis=0) \n",
    "        clusters[idx] = cluster_mean\n",
    "    \n",
    "    # Calculate SSE\n",
    "    last_iter_sse = sse\n",
    "    sse = 0\n",
    "    for idx,centroid in enumerate(cluster_labels):\n",
    "        cluster_members = np.where(assignments == centroid)[0]\n",
    "        sse += np.sum((data[cluster_members] - clusters[idx])**2)\n",
    "\n",
    "    i+=1\n",
    "    print(\"iteration: \", i, \" SSE :\", sse, end='\\r')\n",
    "    if i>=100:\n",
    "        break\n",
    "        # if np.array_equal(clusters,clusters_before_update): # or i>=max_iterations or sse>last_iter_sse:\n",
    "        #     break"
   ]
  },
  {
   "cell_type": "code",
   "execution_count": 157,
   "metadata": {},
   "outputs": [
    {
     "data": {
      "text/plain": [
       "(10000, 1)"
      ]
     },
     "execution_count": 157,
     "metadata": {},
     "output_type": "execute_result"
    }
   ],
   "source": [
    "assignments.shape"
   ]
  },
  {
   "cell_type": "code",
   "execution_count": 158,
   "metadata": {},
   "outputs": [
    {
     "data": {
      "text/plain": [
       "3"
      ]
     },
     "execution_count": 158,
     "metadata": {},
     "output_type": "execute_result"
    }
   ],
   "source": [
    "cluster_members = np.where(assignments == 2)[0]\n",
    "labels[cluster_members]\n",
    "counts = np.bincount(labels[cluster_members])\n",
    "np.argmax(counts)"
   ]
  },
  {
   "cell_type": "code",
   "execution_count": 159,
   "metadata": {},
   "outputs": [],
   "source": [
    "predictions = assignments.copy()\n",
    "for i,_ in enumerate(cluster_labels):\n",
    "    cluster_members = np.where(assignments == i)[0]\n",
    "    counts = np.bincount(labels[cluster_members])\n",
    "    predictions[cluster_members] = np.argmax(counts)"
   ]
  },
  {
   "cell_type": "code",
   "execution_count": 160,
   "metadata": {},
   "outputs": [
    {
     "data": {
      "text/plain": [
       "(10000, 1)"
      ]
     },
     "execution_count": 160,
     "metadata": {},
     "output_type": "execute_result"
    }
   ],
   "source": [
    "predictions.shape"
   ]
  },
  {
   "cell_type": "code",
   "execution_count": 161,
   "metadata": {},
   "outputs": [
    {
     "data": {
      "text/plain": [
       "0.5777"
      ]
     },
     "execution_count": 161,
     "metadata": {},
     "output_type": "execute_result"
    }
   ],
   "source": [
    "acc = accuracy_score(labels, predictions)\n",
    "acc"
   ]
  }
 ],
 "metadata": {
  "kernelspec": {
   "display_name": "Python 3.9.13 ('base')",
   "language": "python",
   "name": "python3"
  },
  "language_info": {
   "codemirror_mode": {
    "name": "ipython",
    "version": 3
   },
   "file_extension": ".py",
   "mimetype": "text/x-python",
   "name": "python",
   "nbconvert_exporter": "python",
   "pygments_lexer": "ipython3",
   "version": "3.9.13"
  },
  "orig_nbformat": 4,
  "vscode": {
   "interpreter": {
    "hash": "1e6a7b6723b894902baae12ce751b40f53dc6201cc32eda169f42fc9fc428a6f"
   }
  }
 },
 "nbformat": 4,
 "nbformat_minor": 2
}
