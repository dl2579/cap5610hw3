{
 "cells": [
  {
   "cell_type": "code",
   "execution_count": 25,
   "metadata": {},
   "outputs": [],
   "source": [
    "import pandas as pd\n",
    "import numpy as np\n",
    "\n",
    "from scipy import spatial\n",
    "from sklearn.metrics import accuracy_score\n",
    "from sklearn.neighbors import BallTree"
   ]
  },
  {
   "cell_type": "code",
   "execution_count": 26,
   "metadata": {},
   "outputs": [],
   "source": [
    "data = np.genfromtxt('./kmeans_data/data.csv',delimiter=\",\", dtype=float)\n",
    "clean_data = data.copy()\n",
    "labels = np.genfromtxt('./kmeans_data/label.csv',delimiter=\",\", dtype=int)"
   ]
  },
  {
   "cell_type": "code",
   "execution_count": 27,
   "metadata": {},
   "outputs": [],
   "source": [
    "def generalized_jaccard(u, v):\n",
    "    return 1 - np.sum(np.minimum(u,v))/np.sum(np.maximum(u,v))"
   ]
  },
  {
   "cell_type": "code",
   "execution_count": 28,
   "metadata": {},
   "outputs": [],
   "source": [
    "class Kmeans:\n",
    "    def __init__(self, K, data):\n",
    "        indices_for_clusters = np.random.choice(data.shape[0], K) #pick K random initial clusters \n",
    "        self.clusters = data[indices_for_clusters] \n",
    "        self.cluster_labels = np.arange(0,K,1) \n",
    "        self.assignments = np.ones(data.shape[0]) * np.inf  #array to keep track of which cluster each datapoint is assigned to\n",
    "\n",
    "\n",
    "    def fit(self, data, max_iterations, metric):\n",
    "        metrics_dict = {\"euclidean\": spatial.distance.euclidean, \"cosine\" : spatial.distance.cosine, \"jaccard\" : generalized_jaccard}\n",
    "        i=0\n",
    "        sse = np.inf\n",
    "        while(1):\n",
    "\n",
    "            #Assign the datapoints to a cluster\n",
    "            distances = BallTree(self.clusters, metric=metrics_dict[metric]).query(data)\n",
    "            nearest_cluster_idx = distances[1]\n",
    "            self.assignments = np.array([self.cluster_labels[idx] for idx in nearest_cluster_idx]) \n",
    "            \n",
    "            #Recompute the means of each cluster and update the cluster with the mean\n",
    "            clusters_before_update = self.clusters.copy()\n",
    "            for idx,centroid in enumerate(self.cluster_labels):\n",
    "                cluster_members = np.where(self.assignments == centroid)[0]\n",
    "                cluster_mean = np.mean(data[cluster_members], axis=0) \n",
    "                self.clusters[idx] = cluster_mean\n",
    "            \n",
    "            #Calculate SSE\n",
    "            last_iter_sse = sse\n",
    "            sse = 0\n",
    "            for idx,centroid in enumerate(self.cluster_labels):\n",
    "                cluster_members = np.where(self.assignments == centroid)[0]\n",
    "                sse += np.sum((data[cluster_members] - self.clusters[idx])**2)\n",
    "\n",
    "            i+=1\n",
    "            print(\"iteration: \", i, \" SSE :\", sse, end='\\r')\n",
    "\n",
    "            #Terminating criteria\n",
    "            if np.array_equal(self.clusters,clusters_before_update) or i>=max_iterations or sse>last_iter_sse:\n",
    "                break\n",
    "        \n",
    "        predictions = np.ones(data.shape[0]) * np.inf\n",
    "        for i,_ in enumerate(self.cluster_labels):\n",
    "            cluster_members = np.where(self.assignments == i)[0]\n",
    "            counts = np.bincount(labels[cluster_members])\n",
    "            predictions[cluster_members] = np.argmax(counts)\n",
    "\n",
    "        return predictions"
   ]
  },
  {
   "cell_type": "markdown",
   "metadata": {},
   "source": [
    "Possible measure of similarity arguments: 'euclidean', 'cosine', or 'jaccard'"
   ]
  },
  {
   "cell_type": "code",
   "execution_count": 29,
   "metadata": {},
   "outputs": [
    {
     "name": "stdout",
     "output_type": "stream",
     "text": [
      "iteration:  65  SSE : 25323605128.806458\r"
     ]
    }
   ],
   "source": [
    "data = clean_data.copy()\n",
    "kmeans = Kmeans(10,data)\n",
    "Y_pred = kmeans.fit(data, 100, 'euclidean')"
   ]
  },
  {
   "cell_type": "code",
   "execution_count": 30,
   "metadata": {},
   "outputs": [
    {
     "data": {
      "text/plain": [
       "0.602"
      ]
     },
     "execution_count": 30,
     "metadata": {},
     "output_type": "execute_result"
    }
   ],
   "source": [
    "acc = accuracy_score(labels, Y_pred)\n",
    "acc"
   ]
  }
 ],
 "metadata": {
  "kernelspec": {
   "display_name": "Python 3.6.13 ('graph')",
   "language": "python",
   "name": "python3"
  },
  "language_info": {
   "codemirror_mode": {
    "name": "ipython",
    "version": 3
   },
   "file_extension": ".py",
   "mimetype": "text/x-python",
   "name": "python",
   "nbconvert_exporter": "python",
   "pygments_lexer": "ipython3",
   "version": "3.6.13"
  },
  "orig_nbformat": 4,
  "vscode": {
   "interpreter": {
    "hash": "d57c3940079087706f727324f4f6ec47886da8fc188adcf7619e2172fccc40d4"
   }
  }
 },
 "nbformat": 4,
 "nbformat_minor": 2
}
