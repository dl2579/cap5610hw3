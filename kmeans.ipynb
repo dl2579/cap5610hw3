{
 "cells": [
  {
   "cell_type": "code",
   "execution_count": 60,
   "metadata": {},
   "outputs": [],
   "source": [
    "import pandas as pd\n",
    "import numpy as np\n",
    "\n",
    "from scipy import spatial\n",
    "from sklearn.metrics import accuracy_score\n",
    "\n",
    "data = pd.read_csv('./kmeans_data/data.csv')\n",
    "labels = pd.read_csv('./kmeans_data/label.csv', header=None)\n",
    "data['label'] = labels\n",
    "\n"
   ]
  },
  {
   "cell_type": "code",
   "execution_count": 61,
   "metadata": {},
   "outputs": [
    {
     "data": {
      "text/html": [
       "<div>\n",
       "<style scoped>\n",
       "    .dataframe tbody tr th:only-of-type {\n",
       "        vertical-align: middle;\n",
       "    }\n",
       "\n",
       "    .dataframe tbody tr th {\n",
       "        vertical-align: top;\n",
       "    }\n",
       "\n",
       "    .dataframe thead th {\n",
       "        text-align: right;\n",
       "    }\n",
       "</style>\n",
       "<table border=\"1\" class=\"dataframe\">\n",
       "  <thead>\n",
       "    <tr style=\"text-align: right;\">\n",
       "      <th></th>\n",
       "      <th>0</th>\n",
       "      <th>0.1</th>\n",
       "      <th>0.2</th>\n",
       "      <th>0.3</th>\n",
       "      <th>0.4</th>\n",
       "      <th>0.5</th>\n",
       "      <th>0.6</th>\n",
       "      <th>0.7</th>\n",
       "      <th>0.8</th>\n",
       "      <th>0.9</th>\n",
       "      <th>...</th>\n",
       "      <th>0.660</th>\n",
       "      <th>0.661</th>\n",
       "      <th>0.662</th>\n",
       "      <th>0.663</th>\n",
       "      <th>0.664</th>\n",
       "      <th>0.665</th>\n",
       "      <th>0.666</th>\n",
       "      <th>0.667</th>\n",
       "      <th>label</th>\n",
       "      <th>assignment</th>\n",
       "    </tr>\n",
       "  </thead>\n",
       "  <tbody>\n",
       "    <tr>\n",
       "      <th>0</th>\n",
       "      <td>0</td>\n",
       "      <td>0</td>\n",
       "      <td>0</td>\n",
       "      <td>0</td>\n",
       "      <td>0</td>\n",
       "      <td>0</td>\n",
       "      <td>0</td>\n",
       "      <td>0</td>\n",
       "      <td>0</td>\n",
       "      <td>0</td>\n",
       "      <td>...</td>\n",
       "      <td>0</td>\n",
       "      <td>0</td>\n",
       "      <td>0</td>\n",
       "      <td>0</td>\n",
       "      <td>0</td>\n",
       "      <td>0</td>\n",
       "      <td>0</td>\n",
       "      <td>0</td>\n",
       "      <td>7</td>\n",
       "      <td>NaN</td>\n",
       "    </tr>\n",
       "    <tr>\n",
       "      <th>1</th>\n",
       "      <td>0</td>\n",
       "      <td>0</td>\n",
       "      <td>0</td>\n",
       "      <td>0</td>\n",
       "      <td>0</td>\n",
       "      <td>0</td>\n",
       "      <td>0</td>\n",
       "      <td>0</td>\n",
       "      <td>0</td>\n",
       "      <td>0</td>\n",
       "      <td>...</td>\n",
       "      <td>0</td>\n",
       "      <td>0</td>\n",
       "      <td>0</td>\n",
       "      <td>0</td>\n",
       "      <td>0</td>\n",
       "      <td>0</td>\n",
       "      <td>0</td>\n",
       "      <td>0</td>\n",
       "      <td>2</td>\n",
       "      <td>NaN</td>\n",
       "    </tr>\n",
       "    <tr>\n",
       "      <th>2</th>\n",
       "      <td>0</td>\n",
       "      <td>0</td>\n",
       "      <td>0</td>\n",
       "      <td>0</td>\n",
       "      <td>0</td>\n",
       "      <td>0</td>\n",
       "      <td>0</td>\n",
       "      <td>0</td>\n",
       "      <td>0</td>\n",
       "      <td>0</td>\n",
       "      <td>...</td>\n",
       "      <td>0</td>\n",
       "      <td>0</td>\n",
       "      <td>0</td>\n",
       "      <td>0</td>\n",
       "      <td>0</td>\n",
       "      <td>0</td>\n",
       "      <td>0</td>\n",
       "      <td>0</td>\n",
       "      <td>1</td>\n",
       "      <td>NaN</td>\n",
       "    </tr>\n",
       "    <tr>\n",
       "      <th>3</th>\n",
       "      <td>0</td>\n",
       "      <td>0</td>\n",
       "      <td>0</td>\n",
       "      <td>0</td>\n",
       "      <td>0</td>\n",
       "      <td>0</td>\n",
       "      <td>0</td>\n",
       "      <td>0</td>\n",
       "      <td>0</td>\n",
       "      <td>0</td>\n",
       "      <td>...</td>\n",
       "      <td>0</td>\n",
       "      <td>0</td>\n",
       "      <td>0</td>\n",
       "      <td>0</td>\n",
       "      <td>0</td>\n",
       "      <td>0</td>\n",
       "      <td>0</td>\n",
       "      <td>0</td>\n",
       "      <td>0</td>\n",
       "      <td>NaN</td>\n",
       "    </tr>\n",
       "    <tr>\n",
       "      <th>4</th>\n",
       "      <td>0</td>\n",
       "      <td>0</td>\n",
       "      <td>0</td>\n",
       "      <td>0</td>\n",
       "      <td>0</td>\n",
       "      <td>0</td>\n",
       "      <td>0</td>\n",
       "      <td>0</td>\n",
       "      <td>0</td>\n",
       "      <td>0</td>\n",
       "      <td>...</td>\n",
       "      <td>0</td>\n",
       "      <td>0</td>\n",
       "      <td>0</td>\n",
       "      <td>0</td>\n",
       "      <td>0</td>\n",
       "      <td>0</td>\n",
       "      <td>0</td>\n",
       "      <td>0</td>\n",
       "      <td>4</td>\n",
       "      <td>NaN</td>\n",
       "    </tr>\n",
       "  </tbody>\n",
       "</table>\n",
       "<p>5 rows × 786 columns</p>\n",
       "</div>"
      ],
      "text/plain": [
       "   0  0.1  0.2  0.3  0.4  0.5  0.6  0.7  0.8  0.9  ...  0.660  0.661  0.662  \\\n",
       "0  0    0    0    0    0    0    0    0    0    0  ...      0      0      0   \n",
       "1  0    0    0    0    0    0    0    0    0    0  ...      0      0      0   \n",
       "2  0    0    0    0    0    0    0    0    0    0  ...      0      0      0   \n",
       "3  0    0    0    0    0    0    0    0    0    0  ...      0      0      0   \n",
       "4  0    0    0    0    0    0    0    0    0    0  ...      0      0      0   \n",
       "\n",
       "   0.663  0.664  0.665  0.666  0.667  label  assignment  \n",
       "0      0      0      0      0      0      7         NaN  \n",
       "1      0      0      0      0      0      2         NaN  \n",
       "2      0      0      0      0      0      1         NaN  \n",
       "3      0      0      0      0      0      0         NaN  \n",
       "4      0      0      0      0      0      4         NaN  \n",
       "\n",
       "[5 rows x 786 columns]"
      ]
     },
     "execution_count": 61,
     "metadata": {},
     "output_type": "execute_result"
    }
   ],
   "source": [
    "data['assignment'] = np.nan\n",
    "clean = data.copy()\n",
    "data.head()"
   ]
  },
  {
   "cell_type": "code",
   "execution_count": 62,
   "metadata": {},
   "outputs": [],
   "source": [
    "def generalized_jaccard(u, v):\n",
    "    return 1 - np.sum(np.minimum(u,v))/np.sum(np.maximum(u,v))"
   ]
  },
  {
   "cell_type": "code",
   "execution_count": 63,
   "metadata": {},
   "outputs": [],
   "source": [
    "class Kmeans:\n",
    "    def __init__(self, K, data):\n",
    "        one_of_each_label = data.groupby('label').sample(1) \n",
    "        self.clusters = one_of_each_label.sample(K) #K clusters, each with a different label\n",
    "        self.clusters.sort_values(by='label', inplace=True) #put labels in order so we can use argmin to grab the label later\n",
    "\n",
    "    def assign_datapoints(self,data):\n",
    "        distances = spatial.distance.cdist(data.iloc[:,:-2], self.clusters.iloc[:,:-2], metric=self.similarity_metric)\n",
    "        assignedCluster = distances.argmin(axis=1)\n",
    "        data.assignment = assignedCluster\n",
    "\n",
    "    def fit(self, data, max_iterations, metric):\n",
    "        #'[:-2]' indexing for columns so we ignore the 'label' and 'assignment' columns when doing calculations\n",
    "        self.similarity_metric = metric # 'euclidean' or 'cosine' or generalized_jaccard\n",
    "        i=0\n",
    "        sse = np.inf\n",
    "        while(1):\n",
    "            #Assign the datapoints to a cluster\n",
    "            self.assign_datapoints(data)\n",
    "\n",
    "            #Recompute the means of each cluster and update the cluster with the mean\n",
    "            clusters_before_update = self.clusters.copy()\n",
    "            for idx, centroid in self.clusters.iterrows():\n",
    "                cluster_mean = data.loc[data.assignment == centroid.label].mean() \n",
    "                self.clusters.loc[idx,:-2] = cluster_mean[:-2]\n",
    "                centroid[:-2] = cluster_mean[:-2]\n",
    "            \n",
    "            #Calculate SSE\n",
    "            last_iter_sse = sse\n",
    "            sse = 0\n",
    "            for idx, centroid in self.clusters.iterrows():\n",
    "                datapoints = data.loc[data.assignment == centroid.label].iloc[:,:-2].to_numpy()\n",
    "                mean_of_cluster = centroid[:-2].to_numpy()\n",
    "                mean = np.repeat(mean_of_cluster[None, :], datapoints.shape[0], axis=0) #repeat the mean to match the num of datapoints so we can do vectorized calc.\n",
    "                sse += np.sum((mean - datapoints)**2)\n",
    "    \n",
    "            i+=1\n",
    "            print(\"iteration: \", i, \" SSE :\", sse, end='\\r')\n",
    "            if self.clusters.equals(clusters_before_update): # or i>=max_iterations or sse>last_iter_sse:\n",
    "                break\n"
   ]
  },
  {
   "cell_type": "code",
   "execution_count": 64,
   "metadata": {},
   "outputs": [],
   "source": [
    "kmeans = Kmeans(10,data)"
   ]
  },
  {
   "cell_type": "code",
   "execution_count": 65,
   "metadata": {},
   "outputs": [
    {
     "name": "stderr",
     "output_type": "stream",
     "text": [
      "/tmp/ipykernel_319/3760302487.py:27: FutureWarning: Slicing a positional slice with .loc is not supported, and will raise TypeError in a future version.  Use .loc with labels or .iloc with positions instead.\n",
      "  self.clusters.loc[idx,:-2] = cluster_mean[:-2]\n"
     ]
    },
    {
     "name": "stdout",
     "output_type": "stream",
     "text": [
      "iteration:  87  SSE : 25320033541.079747\r"
     ]
    }
   ],
   "source": [
    "data = clean.copy()\n",
    "kmeans.fit(data,500, 'euclidean')"
   ]
  },
  {
   "cell_type": "code",
   "execution_count": null,
   "metadata": {},
   "outputs": [],
   "source": [
    "data = clean.copy()\n",
    "kmeans.fit(data,500, 'cosine')"
   ]
  },
  {
   "cell_type": "code",
   "execution_count": null,
   "metadata": {},
   "outputs": [],
   "source": [
    "data = clean.copy()\n",
    "kmeans.fit(data,500, generalized_jaccard)"
   ]
  },
  {
   "cell_type": "code",
   "execution_count": 66,
   "metadata": {},
   "outputs": [],
   "source": [
    "Y_pred = data.label.copy()\n",
    "for idx, centroid in kmeans.clusters.iterrows():\n",
    "    pointsInCluster = data[data.assignment == centroid.label].index #indices of clusters within selected centroid\n",
    "    majorityVoteLabel = data.iloc[pointsInCluster].label.value_counts().idxmax() #the majority vote ground truth labels of those points\n",
    "    # print(majorityVoteLabel, data.iloc[pointsInCluster].label.value_counts().max())\n",
    "    Y_pred.iloc[pointsInCluster] = majorityVoteLabel\n"
   ]
  },
  {
   "cell_type": "code",
   "execution_count": 67,
   "metadata": {},
   "outputs": [
    {
     "data": {
      "text/plain": [
       "0.16561656165616562"
      ]
     },
     "execution_count": 67,
     "metadata": {},
     "output_type": "execute_result"
    }
   ],
   "source": [
    "#compute predictive accuracy\n",
    "acc = accuracy_score(data.label, Y_pred)\n",
    "acc"
   ]
  }
 ],
 "metadata": {
  "kernelspec": {
   "display_name": "Python 3.9.13 ('base')",
   "language": "python",
   "name": "python3"
  },
  "language_info": {
   "codemirror_mode": {
    "name": "ipython",
    "version": 3
   },
   "file_extension": ".py",
   "mimetype": "text/x-python",
   "name": "python",
   "nbconvert_exporter": "python",
   "pygments_lexer": "ipython3",
   "version": "3.9.13"
  },
  "orig_nbformat": 4,
  "vscode": {
   "interpreter": {
    "hash": "1e6a7b6723b894902baae12ce751b40f53dc6201cc32eda169f42fc9fc428a6f"
   }
  }
 },
 "nbformat": 4,
 "nbformat_minor": 2
}
